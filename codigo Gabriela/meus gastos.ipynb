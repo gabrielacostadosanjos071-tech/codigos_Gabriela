{
 "cells": [
  {
   "cell_type": "markdown",
   "id": "91886653",
   "metadata": {},
   "source": [
    "### clt"
   ]
  },
  {
   "cell_type": "code",
   "execution_count": null,
   "id": "023780fa",
   "metadata": {},
   "outputs": [],
   "source": [
    "luz = 100\n",
    "agua = 100\n",
    "alimentos = 1.500\n",
    "internet = 80\n",
    "gasolina = 300\n",
    "entreterimento = 1.000\n",
    "compras = 1.200\n",
    "salario = 5.500\n",
    "\n",
    "quanto_sobra =2.420"
   ]
  },
  {
   "cell_type": "code",
   "execution_count": null,
   "id": "9c2317ca",
   "metadata": {},
   "outputs": [],
   "source": [
    "sálario = 1.200\n",
    "gasólina = 200\n",
    "internet = 200\n",
    "alimento = 1.500\n",
    "agua = 100\n",
    "luz = 300\n",
    "condominio = 510\n",
    "entreterimento = 1.200\n",
    "\n",
    "Quanto_falta = 2.810"
   ]
  }
 ],
 "metadata": {
  "language_info": {
   "name": "python"
  }
 },
 "nbformat": 4,
 "nbformat_minor": 5
}
