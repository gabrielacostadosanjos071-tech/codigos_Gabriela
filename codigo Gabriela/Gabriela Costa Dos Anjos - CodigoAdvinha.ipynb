{
 "cells": [
  {
   "cell_type": "markdown",
   "id": "4f7a1d42",
   "metadata": {},
   "source": [
    "### Jogo de advinhação\n",
    "\n",
    "Vamos criar um jogo que advinha o número que o usuário digitou!!\n"
   ]
  },
  {
   "cell_type": "code",
   "execution_count": null,
   "id": "5fa02260",
   "metadata": {},
   "outputs": [
    {
     "name": "stdout",
     "output_type": "stream",
     "text": [
      "Jogo de advinhação!!! Boa Sorte!!\n",
      "------------------------------------\n"
     ]
    }
   ],
   "source": [
    "print(\"Jogo de advinhação!!! Boa Sorte!!\")\n",
    "print(\"------------------------------------\")\n",
    "## o número deve ser float, pois deve aceitar tanto números inteiros, quanto números quebrados\n",
    "numero_usuario =float (input(\"digite um numero\"))\n",
    "print(f\"aposto que acertei que voce digitou\")\n",
    "print(f\"aposto que o numero foi {numero_usuario}\")"
   ]
  },
  {
   "cell_type": "markdown",
   "id": "56cf80bf",
   "metadata": {},
   "source": [
    "### Meu carro do sonho\n",
    "\n",
    "Vamos pedir para o usuário nos informar o nome do carro e o preço do carro dos sonhos deles."
   ]
  },
  {
   "cell_type": "code",
   "execution_count": 5,
   "id": "7d9330a4",
   "metadata": {},
   "outputs": [
    {
     "name": "stdout",
     "output_type": "stream",
     "text": [
      "o carro é gyp\n",
      "o valor do carro é 100.00,,quantia que voce possui é 50.0,faltam 50.00 reais para voce comprar o carro\n"
     ]
    }
   ],
   "source": [
    "# 1º Primeiro peça ao usuário o nome do carro dos sonhos:\n",
    "nome_carro = input(\"Informe o nome do seu carro do sonho:\")\n",
    "# 2º Peça o preço do carro dos sonhos\n",
    "preço = float(input(\"digite o preço do carro\"))\n",
    "# 3º Pergunte quanto dinheiro o usuário tem e guarde o valor em uma variável\n",
    "dinheiro =float(input(\"informe quanto de dinheiro voce tem\"))\n",
    "# 4º Calcule quanto falta para o usuário conseguir comprar o carro\n",
    "falta = preço - dinheiro\n",
    "# 5º Mostre na tela o nome do carro o preço dele e quanto falta para o usuário realizar o sonho dele.\n",
    "print(f\"o carro é {nome_carro}\")\n",
    "print(f\"o valor do carro é {preço:.2f},,quantia que voce possui é {dinheiro},faltam {falta:.2f} reais para voce comprar o carro\")\n",
    "                                                                                    "
   ]
  },
  {
   "cell_type": "markdown",
   "id": "d28ba737",
   "metadata": {},
   "source": [
    "### Agenda de Celular\n",
    "\n",
    "Peça ao usuário que informe o nome dele e o número do telefone dele\n",
    "\n",
    "Depois mostre ao usuário print() com uma mensagem o nome dele e o número do telefone"
   ]
  },
  {
   "cell_type": "code",
   "execution_count": 9,
   "id": "3037f6bb",
   "metadata": {},
   "outputs": [
    {
     "name": "stdout",
     "output_type": "stream",
     "text": [
      "seu nome é gabi seu telefone é 11976533985\n"
     ]
    }
   ],
   "source": [
    "# preciso pedir o nome do usuário\n",
    "nome = input(\"digite seu nome\")\n",
    "#preciso pedir o telefone\n",
    "telefone = input(\"digite seu telefone\")\n",
    "# mostrar as informações\n",
    "print(f\"seu nome é {nome} seu telefone é {telefone}\")"
   ]
  },
  {
   "cell_type": "markdown",
   "id": "3312349f",
   "metadata": {},
   "source": [
    "### Adivinha a idade\n",
    "\n",
    "preciso do ano do nascimento e o ano atual\n",
    "\n",
    "formula = ano_atual - ano_nascimento\n",
    "\n",
    "tipo da variavel int"
   ]
  },
  {
   "cell_type": "code",
   "execution_count": 11,
   "id": "4d8cbcc1",
   "metadata": {},
   "outputs": [
    {
     "name": "stdout",
     "output_type": "stream",
     "text": [
      "meu ano de nascimento é 2008,e estamos no ano 2025,e minha idade é -17\n"
     ]
    }
   ],
   "source": [
    "nascimento = int(input(\"digite sua data de nascimento\"))\n",
    "atual =int(input(\"digite o ano atual\"))\n",
    "resultado = nascimento - atual\n",
    "print(f\"meu ano de nascimento é {nascimento},e estamos no ano {atual},e minha idade é {resultado}\")"
   ]
  }
 ],
 "metadata": {
  "kernelspec": {
   "display_name": "Python 3",
   "language": "python",
   "name": "python3"
  },
  "language_info": {
   "codemirror_mode": {
    "name": "ipython",
    "version": 3
   },
   "file_extension": ".py",
   "mimetype": "text/x-python",
   "name": "python",
   "nbconvert_exporter": "python",
   "pygments_lexer": "ipython3",
   "version": "3.13.2"
  }
 },
 "nbformat": 4,
 "nbformat_minor": 5
}
