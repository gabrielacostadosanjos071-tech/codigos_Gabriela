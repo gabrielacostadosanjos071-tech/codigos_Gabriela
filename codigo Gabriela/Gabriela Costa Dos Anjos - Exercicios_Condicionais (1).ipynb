{
 "cells": [
  {
   "cell_type": "markdown",
   "id": "633160a3",
   "metadata": {},
   "source": [
    "### 📝Lista de Exercícios: Condicionais IF/ELSE"
   ]
  },
  {
   "cell_type": "markdown",
   "id": "605d2a7e",
   "metadata": {},
   "source": [
    "Exercício 1 - Maioridade 🔞\n",
    "\n",
    "Crie um programa que pergunta a idade do usuário e diz se ele é maior ou menor de idade."
   ]
  },
  {
   "cell_type": "code",
   "execution_count": 11,
   "id": "93ea230f",
   "metadata": {},
   "outputs": [
    {
     "name": "stdout",
     "output_type": "stream",
     "text": [
      "maior de idade\n"
     ]
    }
   ],
   "source": [
    "idade = int(input(\"Quantos anos você tem? \"))\n",
    "\n",
    "# Complete o código aqui\n",
    "\n",
    "if idade >= 18:\n",
    "     print(\"maior de idade\")\n",
    "else:\n",
    "     print(\"menor de idade\")"
   ]
  },
  {
   "cell_type": "markdown",
   "id": "6e9528f5",
   "metadata": {},
   "source": [
    "Exercício 2 - Aprovação na Prova 🧠\n",
    "\n",
    "Faça um programa que pergunte a nota de um aluno (0 a 10) e diz se ele foi aprovado(nota >= 5) ou reprovado (nota <5)."
   ]
  },
  {
   "cell_type": "code",
   "execution_count": 12,
   "id": "4a9f8f8b",
   "metadata": {},
   "outputs": [
    {
     "name": "stdout",
     "output_type": "stream",
     "text": [
      "voce não foi aprovado\n"
     ]
    }
   ],
   "source": [
    "nota = float(input(\"Informe a sua nota de (0 a 10)\"))\n",
    "\n",
    "# Complete o código aqui\n",
    "\n",
    "if nota >= 7:\n",
    "    print(\"voce foi aprovado\")\n",
    "else:\n",
    "    print(\"voce não foi aprovado\")"
   ]
  },
  {
   "cell_type": "markdown",
   "id": "9f8e9b92",
   "metadata": {},
   "source": [
    "Exercicio 3 - CNH 🚘🚙\n",
    "\n",
    " 1º - Peça ao usuário que digite a idade dele.\n",
    "\n",
    " 2º - Peça pra ele dizer se foi aprovado ou reprovado no curso de cnh.\n",
    "\n",
    " 3º - Use if e else para verificar se ele tem 18 anos ou mais e se foi aprovado.\n",
    "\n",
    " 4º - Se as condições do passo 3 estiverem certas, print(\"pode dirigir\").\n",
    " \n",
    " 5º - Se não print(\"vai andar a pé\")"
   ]
  },
  {
   "cell_type": "code",
   "execution_count": 13,
   "id": "bee9f043",
   "metadata": {},
   "outputs": [
    {
     "name": "stdout",
     "output_type": "stream",
     "text": [
      "voce foi reprovado e nao pode dirigir\n"
     ]
    }
   ],
   "source": [
    "### Seu código aqui\n",
    "idade = int(input(\"qual é a tua idade?\"))\n",
    "cnh = input(\"voce foi aprovado no curso de cnh (sim ou não?)\")\n",
    "if idade >= 18 and cnh ==\"sim\":\n",
    "     print(\"voce foi aprovado e é maior de idade, pode dirigir\")\n",
    "else:\n",
    "     print(\"voce foi reprovado e nao pode dirigir\")"
   ]
  },
  {
   "cell_type": "markdown",
   "id": "e9c60d12",
   "metadata": {},
   "source": [
    "Exercício 4 - Calculadora de Desconto. 💵 🤑\n",
    "\n",
    "Uma loja dá 10% de desconto para compras acima de R$ 100,00. Faça um programa que:\n",
    "\n",
    "1º - Pergunta o valor da compra.\n",
    "\n",
    "2º - Calcula o valor final com desconto (se aplicável).\n",
    "\n",
    "3º - Mostra o valor a pagar."
   ]
  },
  {
   "cell_type": "code",
   "execution_count": 14,
   "id": "22c0390f",
   "metadata": {},
   "outputs": [
    {
     "name": "stdout",
     "output_type": "stream",
     "text": [
      "sua compra pode ser aplicável até 10% de desconto\n"
     ]
    }
   ],
   "source": [
    "### seu código aqui\n",
    "compra = float(input(\"valor da sua compra\"))\n",
    "desconto = compra * 0.10\n",
    "valor_final = compra - desconto\n",
    "if compra >=100:\n",
    "     print(\"sua compra pode ser aplicável até 10% de desconto\")\n",
    "else:\n",
    "    print(\"infelizmente a sua compra não podera ser realizada com desconto, compre mais de 100 reais para conseguir o beneficio\")"
   ]
  },
  {
   "cell_type": "markdown",
   "id": "ec96b43c",
   "metadata": {},
   "source": [
    "Exercício 5 - Classificação de Notas 🧑‍🎓\n",
    "\n",
    "Pergunte a nota de um aluno e dependendo da nota que ele informar, o classifique de acordo com as regras abaixo:\n",
    "\n",
    "Classifique a nota do aluno:\n",
    "\n",
    "- 9 até 10: \"Excelente\"\n",
    "\n",
    "- 7 até 8.9: \"Bom\"\n",
    "\n",
    "- 5 até 6.9: \"Regular\"\n",
    "\n",
    "- 0 até 4.9: \"Reprovado\"\n",
    "\n",
    "mostre para o aluno a classificação dele através de um print, exemplo print(\"Excelente\")."
   ]
  },
  {
   "cell_type": "code",
   "execution_count": 15,
   "id": "465c6812",
   "metadata": {},
   "outputs": [
    {
     "ename": "ValueError",
     "evalue": "could not convert string to float: '086r'",
     "output_type": "error",
     "traceback": [
      "\u001b[31m---------------------------------------------------------------------------\u001b[39m",
      "\u001b[31mValueError\u001b[39m                                Traceback (most recent call last)",
      "\u001b[36mCell\u001b[39m\u001b[36m \u001b[39m\u001b[32mIn[15]\u001b[39m\u001b[32m, line 1\u001b[39m\n\u001b[32m----> \u001b[39m\u001b[32m1\u001b[39m nota = \u001b[38;5;28;43mfloat\u001b[39;49m\u001b[43m(\u001b[49m\u001b[38;5;28;43minput\u001b[39;49m\u001b[43m(\u001b[49m\u001b[33;43m\"\u001b[39;49m\u001b[33;43mqual foi a sua nota?\u001b[39;49m\u001b[33;43m\"\u001b[39;49m\u001b[43m)\u001b[49m\u001b[43m)\u001b[49m\n\u001b[32m      2\u001b[39m \u001b[38;5;28;01mif\u001b[39;00m nota >=\u001b[32m10\u001b[39m:\n\u001b[32m      3\u001b[39m    \u001b[38;5;28mprint\u001b[39m(\u001b[33m\"\u001b[39m\u001b[33mexcelente\u001b[39m\u001b[33m\"\u001b[39m)\n",
      "\u001b[31mValueError\u001b[39m: could not convert string to float: '086r'"
     ]
    }
   ],
   "source": [
    "nota = float(input(\"qual foi a sua nota?\"))\n",
    "if nota >=10:\n",
    "   print(\"excelente\")\n",
    "elif nota >=8:\n",
    "   print(\"bom\")\n",
    "elif nota >=6:\n",
    "   print(\"regular\")\n",
    "else:\n",
    "   print(\"reprovado\")"
   ]
  },
  {
   "cell_type": "markdown",
   "id": "809b0f57",
   "metadata": {},
   "source": [
    "Exercício 6 - Acesso ao Sistema 🔑\n",
    "\n",
    "Crie um login simples:\n",
    "\n",
    "- usuario_correto = \"admin\"\n",
    "\n",
    "- senha_correta = \"1234\"\n",
    "\n",
    "**Peça para o usuário digitar primeiro o login e depois a senha, caso login e senha estejam corretos programa deve mostrar \"Acesso permitido\" se não \"Acesso negado\"**\n"
   ]
  },
  {
   "cell_type": "code",
   "execution_count": null,
   "id": "7fcf16db",
   "metadata": {},
   "outputs": [
    {
     "name": "stdout",
     "output_type": "stream",
     "text": [
      "acesso permitido\n"
     ]
    }
   ],
   "source": [
    "usuario_correto = input(\"qual o nome do usuario?\")\n",
    "senha_correta = int(input(\"qual é a sua semha?\"))\n",
    "if usuario_correto == \"Gabi\" and senha_correta == 1234:\n",
    "    print(\"acesso permitido\")\n",
    "else:\n",
    "    print(\"acesso negado\")    \n",
    "                        "
   ]
  },
  {
   "cell_type": "markdown",
   "id": "46c27406",
   "metadata": {},
   "source": [
    "Exercício 7 - Maior Número 📉\n",
    "\n",
    "Peça 3 números e mostre qual é o maior deles."
   ]
  },
  {
   "cell_type": "code",
   "execution_count": null,
   "id": "916439ff",
   "metadata": {},
   "outputs": [
    {
     "name": "stdout",
     "output_type": "stream",
     "text": [
      "o maior numero é o 3\n"
     ]
    }
   ],
   "source": [
    "n1 = input(\"digite seu primeiro numero\")\n",
    "n2 = input(\"digite seu segundo numero\")\n",
    "n3 = input(\"digite seu terceiro numero\")\n",
    "print(f\"o maior numero é o {n3}\")"
   ]
  },
  {
   "cell_type": "markdown",
   "id": "984fe0fe",
   "metadata": {},
   "source": [
    "Exercício 8 - Dia da Semana\n",
    "Peça um número de 1 a 7 e mostre o dia da semana correspondente: 📅\n",
    "\n",
    "- 1: Domingo\n",
    "\n",
    "- 2: Segunda\n",
    "\n",
    "- ... até 7: Sábado"
   ]
  },
  {
   "cell_type": "code",
   "execution_count": null,
   "id": "f34c6fbf",
   "metadata": {},
   "outputs": [
    {
     "name": "stdout",
     "output_type": "stream",
     "text": [
      "terça\n"
     ]
    }
   ],
   "source": [
    "semana = int(input(\"fale um numero de 1 a 7 e mostre o dia da semana\"))\n",
    "if semana == 1:\n",
    "     print(\"domingo\")\n",
    "elif semana == 2:\n",
    "    print(\"segunda\")\n",
    "elif semana == 3:\n",
    "    print(\"terça\")\n",
    "elif semana == 4:\n",
    "    print(\"quarta\")\n",
    "elif semana == 5:\n",
    "    print(\"quinta\")\n",
    "elif semana == 6:\n",
    "    print(\"sexta\")\n",
    "elif semana == 7:\n",
    "    print(\"sabado\")"
   ]
  },
  {
   "cell_type": "markdown",
   "id": "f1f760b7",
   "metadata": {},
   "source": [
    "Exercício 9 - Calculadora Simples 📏📐\n",
    "\n",
    "- Faça uma calculadora que:\n",
    "\n",
    "- Pede dois números\n",
    "\n",
    "- Pede a operação (+, -, *, /)\n",
    "\n",
    "- Dependendo da operação mostre o resultado.\n"
   ]
  },
  {
   "cell_type": "code",
   "execution_count": 18,
   "id": "95c6ce03",
   "metadata": {},
   "outputs": [
    {
     "name": "stdout",
     "output_type": "stream",
     "text": [
      "o resultado de 17.0*30.0 é 510.0\n"
     ]
    }
   ],
   "source": [
    "calculadora1 = float(input(\"fale algum numero\"))\n",
    "calculadora2 = float(input(\"fale outro numero\"))\n",
    "operaçao = input(\"escolhe uma operação entre +,-;*;/\")\n",
    "if operaçao == \"+\":\n",
    "   resultado = calculadora1 + calculadora2\n",
    "   print(f\"o resultado de {calculadora1}{operaçao}{calculadora2} é {resultado}\")\n",
    "elif operaçao ==\"-\":\n",
    "    resultado = calculadora1 - calculadora2\n",
    "    print(f\"o resultado de {calculadora1}{operaçao}{calculadora2} é {resultado}\") \n",
    "elif operaçao == \"*\":\n",
    "    resultado = calculadora1 * calculadora2\n",
    "    print(f\"o resultado de {calculadora1}{operaçao}{calculadora2} é {resultado}\")\n",
    "else:\n",
    "    resultado = calculadora1 / calculadora2\n",
    "    print(f\"o resultado de {calculadora1}{operaçao}{calculadora2} é {resultado}\")\n",
    "  "
   ]
  },
  {
   "cell_type": "markdown",
   "id": "f39f6b73",
   "metadata": {},
   "source": [
    "Exercício 10 - Sistema de Multas 🚙🚘🧾\n",
    "\n",
    "\n",
    "- Velocidade máxima: 80 km/h 🚫\n",
    "\n",
    "- Até 80: \"Sem multa\"\n",
    "\n",
    "- 81-100: \"Multa leve\"\n",
    "\n",
    "- Acima de 100: \"Multa grave\""
   ]
  },
  {
   "cell_type": "code",
   "execution_count": 20,
   "id": "20fdc977",
   "metadata": {},
   "outputs": [
    {
     "name": "stdout",
     "output_type": "stream",
     "text": [
      "muta grave\n"
     ]
    }
   ],
   "source": [
    "velocidade = int(input(\"diga a velocidade em km/h\"))\n",
    "if velocidade <=80:\n",
    "    print(\"sem multa\")\n",
    "elif velocidade >= 81 and velocidade <=100:\n",
    "    print(\"multa leve\")\n",
    "else:\n",
    "    print(\"muta grave\")"
   ]
  }
 ],
 "metadata": {
  "kernelspec": {
   "display_name": "Python 3",
   "language": "python",
   "name": "python3"
  },
  "language_info": {
   "codemirror_mode": {
    "name": "ipython",
    "version": 3
   },
   "file_extension": ".py",
   "mimetype": "text/x-python",
   "name": "python",
   "nbconvert_exporter": "python",
   "pygments_lexer": "ipython3",
   "version": "3.13.2"
  }
 },
 "nbformat": 4,
 "nbformat_minor": 5
}
