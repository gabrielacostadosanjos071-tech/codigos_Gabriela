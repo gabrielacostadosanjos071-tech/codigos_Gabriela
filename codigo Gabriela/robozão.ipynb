{
 "cells": [
  {
   "cell_type": "code",
   "execution_count": null,
   "id": "b8577f72",
   "metadata": {},
   "outputs": [],
   "source": [
    "import pyautogui as aut\n",
    "\n",
    "aut.press(\"Win\")\n",
    "aut.sleep(1)\n",
    "aut.write(\"paint\")\n",
    "aut.press(\"enter\")\n",
    "aut.sleep(2)\n",
    "aut.moveTo(259,102)\n",
    "aut.click()\n",
    "aut.moveTo(253,94)\n",
    "aut.click()\n",
    "aut.dragTo(664,590)\n",
    "aut.sleep(1)\n",
    "aut.dragTo(940,815)\n",
    "aut.moveTo(582,79)\n",
    "aut.sleep(1)\n",
    "aut.click()\n",
    "aut.moveTo(1246,320)\n",
    "aut.click()\n",
    "aut.dragTo(589,588)\n",
    "aut.sleep(1)\n",
    "aut.dragTo(1037,432)"
   ]
  },
  {
   "cell_type": "code",
   "execution_count": 8,
   "id": "31c31440",
   "metadata": {},
   "outputs": [],
   "source": [
    "#pega a informação do mause\n",
    "aut.mouseInfo()"
   ]
  },
  {
   "cell_type": "code",
   "execution_count": null,
   "id": "d9724a17",
   "metadata": {},
   "outputs": [],
   "source": []
  },
  {
   "cell_type": "code",
   "execution_count": 53,
   "id": "f0d15944",
   "metadata": {},
   "outputs": [],
   "source": [
    "\n",
    "import pyautogui as aut\n",
    "\n",
    "aut.press(\"Win\")\n",
    "aut.write(\"chrome\", interval=0.02)\n",
    "aut.press(\"enter\")\n",
    "aut.sleep(1)\n",
    "aut.moveTo(431,314)\n",
    "aut.click()\n",
    "aut.sleep(1)\n",
    "aut.moveTo(429,279)\n",
    "aut.click()\n",
    "aut.sleep(1)\n",
    "aut.moveTo(921,489)\n",
    "aut.click()\n",
    "aut.sleep(1)\n",
    "aut.moveTo()\n",
    "aut.click()\n",
    "aut.sleep(1)\n",
    "aut.moveTo()\n",
    "aut.click()\n",
    "aut.sleep(1)\n"
   ]
  },
  {
   "cell_type": "code",
   "execution_count": null,
   "id": "8e97d13b",
   "metadata": {},
   "outputs": [],
   "source": []
  },
  {
   "cell_type": "markdown",
   "id": "52eed627",
   "metadata": {},
   "source": []
  },
  {
   "cell_type": "code",
   "execution_count": null,
   "id": "66e7ff1e",
   "metadata": {},
   "outputs": [],
   "source": []
  },
  {
   "cell_type": "markdown",
   "id": "bb0f5c62",
   "metadata": {},
   "source": [
    "aut.mouseInfo()"
   ]
  }
 ],
 "metadata": {
  "kernelspec": {
   "display_name": "Python 3",
   "language": "python",
   "name": "python3"
  },
  "language_info": {
   "codemirror_mode": {
    "name": "ipython",
    "version": 3
   },
   "file_extension": ".py",
   "mimetype": "text/x-python",
   "name": "python",
   "nbconvert_exporter": "python",
   "pygments_lexer": "ipython3",
   "version": "3.13.2"
  }
 },
 "nbformat": 4,
 "nbformat_minor": 5
}
