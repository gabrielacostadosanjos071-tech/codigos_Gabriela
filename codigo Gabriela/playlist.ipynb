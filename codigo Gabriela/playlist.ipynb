{
 "cells": [
  {
   "cell_type": "markdown",
   "id": "c5794c2d",
   "metadata": {},
   "source": [
    "### Playlist"
   ]
  },
  {
   "cell_type": "code",
   "execution_count": 2,
   "id": "821e5375",
   "metadata": {},
   "outputs": [
    {
     "name": "stdout",
     "output_type": "stream",
     "text": [
      "birthday sex\n",
      "os anjos cantam\n",
      "ninguem e mais feliz que nos\n",
      "crazy in love\n"
     ]
    }
   ],
   "source": [
    "playlist = [\"birthday sex\", \"os anjos cantam\", \"ninguem e mais feliz que nos\",\"crazy in love\"]\n",
    "print(playlist[0])\n",
    "print(playlist[1])\n",
    "print(playlist[2])\n",
    "print(playlist[-1])"
   ]
  }
 ],
 "metadata": {
  "kernelspec": {
   "display_name": "Python 3",
   "language": "python",
   "name": "python3"
  },
  "language_info": {
   "codemirror_mode": {
    "name": "ipython",
    "version": 3
   },
   "file_extension": ".py",
   "mimetype": "text/x-python",
   "name": "python",
   "nbconvert_exporter": "python",
   "pygments_lexer": "ipython3",
   "version": "3.13.2"
  }
 },
 "nbformat": 4,
 "nbformat_minor": 5
}
